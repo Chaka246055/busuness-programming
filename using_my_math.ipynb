{
  "nbformat": 4,
  "nbformat_minor": 0,
  "metadata": {
    "colab": {
      "name": "using_my_math.ipynb",
      "provenance": [],
      "include_colab_link": true
    },
    "kernelspec": {
      "name": "python3",
      "display_name": "Python 3"
    },
    "language_info": {
      "name": "python"
    }
  },
  "cells": [
    {
      "cell_type": "markdown",
      "metadata": {
        "id": "view-in-github",
        "colab_type": "text"
      },
      "source": [
        "<a href=\"https://colab.research.google.com/github/Chaka246055/busuness-programming/blob/main/using_my_math.ipynb\" target=\"_parent\"><img src=\"https://colab.research.google.com/assets/colab-badge.svg\" alt=\"Open In Colab\"/></a>"
      ]
    },
    {
      "cell_type": "markdown",
      "source": [
        "# Test Module: my_math.ipynb\n",
        "\n",
        "In this notebook, write some code to test the functions in *my_math.ipynb* by importing the file as python module. *my_math.ipynb* has some basic arithmetic functions in it.\n",
        "\n",
        "We will try importing as a python script and as a notebook.\n",
        "\n",
        "## Task 0 - Import this notebook to GitHub\n",
        "Save the notebook to your local GitHub repository.\n",
        "\n",
        "## Task 1 - Import as a Python script\n",
        "To do this you will need to:\n",
        "* open my_math.ipynb from the ISYS2001 Worksheets repository\n",
        "* download/save as my_math.py\n",
        "* from this notebook upload my_math.py.  This will put it in the same folder as this notebook.\n",
        "* Import the my_math module\n",
        "\n",
        "    import my_math\n",
        "* write some code to test the functions in my_math module"
      ],
      "metadata": {
        "id": "pM6Ipzg-fJzT"
      }
    },
    {
      "cell_type": "code",
      "execution_count": null,
      "metadata": {
        "id": "vc2SBxd8fDyE"
      },
      "outputs": [],
      "source": [
        "import my_math\n",
        "\n",
        "my_math.add(5,6)"
      ]
    },
    {
      "cell_type": "code",
      "source": [
        "my_math.divide(5,6)"
      ],
      "metadata": {
        "id": "8EF1FxpkKGeh"
      },
      "execution_count": null,
      "outputs": []
    },
    {
      "cell_type": "code",
      "source": [
        "my_math.subtract(5,6)"
      ],
      "metadata": {
        "id": "eM2q7Y9xKZxl"
      },
      "execution_count": null,
      "outputs": []
    },
    {
      "cell_type": "code",
      "source": [
        "my_math.multiply(5,6)"
      ],
      "metadata": {
        "id": "EuYu37qbKjgo"
      },
      "execution_count": null,
      "outputs": []
    },
    {
      "cell_type": "code",
      "source": [
        "help(my_math)"
      ],
      "metadata": {
        "id": "fWbEUqJ9KuiD"
      },
      "execution_count": null,
      "outputs": []
    },
    {
      "cell_type": "markdown",
      "source": [
        "## Task 2 - Import as a Notebook\n",
        "\n",
        "To do this you will need:\n",
        "* intall margo loader\n",
        "* open my_math.ipynb from the ISYS2001 Worksheets repository\n",
        "* download as a notebook my_math.ipynb\n",
        "* from this notebook upload my_math.ipynb.  This will put it in the same folder as this notebook.\n",
        "* import the notebook\n",
        "    import margo_loader\n",
        "    import my_math\n",
        "\n",
        "* Wrtie some code to test the functions in my_math notebook \n"
      ],
      "metadata": {
        "id": "3mChsfz3hbv2"
      }
    },
    {
      "cell_type": "code",
      "source": [
        "!pip -q install margo-loader"
      ],
      "metadata": {
        "id": "QOOQhfvIiOss",
        "colab": {
          "base_uri": "https://localhost:8080/"
        },
        "outputId": "17f55bf9-2236-476a-b6f4-66524018a235"
      },
      "execution_count": 7,
      "outputs": [
        {
          "output_type": "stream",
          "name": "stdout",
          "text": [
            "\u001b[?25l\r\u001b[K     |██                              | 10 kB 21.0 MB/s eta 0:00:01\r\u001b[K     |███▉                            | 20 kB 19.6 MB/s eta 0:00:01\r\u001b[K     |█████▊                          | 30 kB 24.8 MB/s eta 0:00:01\r\u001b[K     |███████▊                        | 40 kB 14.5 MB/s eta 0:00:01\r\u001b[K     |█████████▋                      | 51 kB 6.5 MB/s eta 0:00:01\r\u001b[K     |███████████▌                    | 61 kB 7.7 MB/s eta 0:00:01\r\u001b[K     |█████████████▍                  | 71 kB 8.6 MB/s eta 0:00:01\r\u001b[K     |███████████████▍                | 81 kB 9.5 MB/s eta 0:00:01\r\u001b[K     |█████████████████▎              | 92 kB 10.6 MB/s eta 0:00:01\r\u001b[K     |███████████████████▏            | 102 kB 10.4 MB/s eta 0:00:01\r\u001b[K     |█████████████████████▏          | 112 kB 10.4 MB/s eta 0:00:01\r\u001b[K     |███████████████████████         | 122 kB 10.4 MB/s eta 0:00:01\r\u001b[K     |█████████████████████████       | 133 kB 10.4 MB/s eta 0:00:01\r\u001b[K     |██████████████████████████▉     | 143 kB 10.4 MB/s eta 0:00:01\r\u001b[K     |████████████████████████████▉   | 153 kB 10.4 MB/s eta 0:00:01\r\u001b[K     |██████████████████████████████▊ | 163 kB 10.4 MB/s eta 0:00:01\r\u001b[K     |████████████████████████████████| 170 kB 10.4 MB/s \n",
            "\u001b[K     |████████████████████████████████| 269 kB 54.5 MB/s \n",
            "\u001b[K     |████████████████████████████████| 87 kB 7.0 MB/s \n",
            "\u001b[?25h  Building wheel for pyyaml (setup.py) ... \u001b[?25l\u001b[?25hdone\n",
            "\u001b[31mERROR: pip's dependency resolver does not currently take into account all the packages that are installed. This behaviour is the source of the following dependency conflicts.\n",
            "nbclient 0.5.13 requires jupyter-client>=6.1.5, but you have jupyter-client 5.3.5 which is incompatible.\u001b[0m\n"
          ]
        }
      ]
    },
    {
      "cell_type": "code",
      "source": [
        "import margo_loader\n",
        "import my_math"
      ],
      "metadata": {
        "id": "HfltNoMiMpzp"
      },
      "execution_count": 9,
      "outputs": []
    },
    {
      "cell_type": "code",
      "source": [
        "my_math.multiply(3,5)"
      ],
      "metadata": {
        "colab": {
          "base_uri": "https://localhost:8080/"
        },
        "id": "kvdf9jUwM4n7",
        "outputId": "8964ec69-dd48-465a-cbbe-aa253dc2b1f8"
      },
      "execution_count": 10,
      "outputs": [
        {
          "output_type": "execute_result",
          "data": {
            "text/plain": [
              "15"
            ]
          },
          "metadata": {},
          "execution_count": 10
        }
      ]
    }
  ]
}