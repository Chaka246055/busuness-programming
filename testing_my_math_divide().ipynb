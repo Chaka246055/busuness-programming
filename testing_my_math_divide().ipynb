{
  "nbformat": 4,
  "nbformat_minor": 0,
  "metadata": {
    "colab": {
      "name": "testing_my_math.divide().ipynb",
      "provenance": [],
      "include_colab_link": true
    },
    "kernelspec": {
      "name": "python3",
      "display_name": "Python 3"
    },
    "language_info": {
      "name": "python"
    }
  },
  "cells": [
    {
      "cell_type": "markdown",
      "metadata": {
        "id": "view-in-github",
        "colab_type": "text"
      },
      "source": [
        "<a href=\"https://colab.research.google.com/github/Chaka246055/busuness-programming/blob/main/testing_my_math_divide().ipynb\" target=\"_parent\"><img src=\"https://colab.research.google.com/assets/colab-badge.svg\" alt=\"Open In Colab\"/></a>"
      ]
    },
    {
      "cell_type": "markdown",
      "source": [
        "## Testing  my_math.divide()\n",
        "\n",
        "What is your preferred testing strategy? Do you like using the assert statement or prefer doctest?  \n",
        "\n",
        "Using your preferred testing strategy, develop a test table and test the following funciton.  Where required update the function so all test behave as expected.\n",
        "\n",
        "\n",
        "## Function to test"
      ],
      "metadata": {
        "id": "LIfoDVzKX7uK"
      }
    },
    {
      "cell_type": "code",
      "source": [
        "def divide(x, y):\n",
        "    '''Divide first by second number'''\n",
        "    return x / y"
      ],
      "metadata": {
        "id": "YH9gDoOYvKwg"
      },
      "execution_count": 3,
      "outputs": []
    },
    {
      "cell_type": "markdown",
      "source": [
        "## Test Table\n",
        "\n",
        "List you test cases here."
      ],
      "metadata": {
        "id": "JYSZ-53nLF6n"
      }
    },
    {
      "cell_type": "code",
      "source": [
        "assert divide(1,2) == 0.5"
      ],
      "metadata": {
        "id": "DMTITEmbLE_Z"
      },
      "execution_count": 4,
      "outputs": []
    },
    {
      "cell_type": "code",
      "source": [
        "def isNumeric(x):\n",
        "   return (type(x) == int or type(x) == float)\n",
        "\n",
        "def divide(x, y):\n",
        "    '''Divide first by second number'''\n",
        "    if(type (y) == 0 or isNumeric(x) and isNumeric(y)):\n",
        "      return x / y\n",
        "    return \"Not a number\""
      ],
      "metadata": {
        "id": "YQ-6vu3lw-Tu"
      },
      "execution_count": 5,
      "outputs": []
    },
    {
      "cell_type": "code",
      "source": [
        "assert divide(2,2) == 1"
      ],
      "metadata": {
        "id": "bhviBuYgISNu"
      },
      "execution_count": 6,
      "outputs": []
    },
    {
      "cell_type": "code",
      "source": [
        "assert divide(200,10) == 20"
      ],
      "metadata": {
        "id": "1NYz6x0fJkDt"
      },
      "execution_count": 8,
      "outputs": []
    }
  ]
}