{
  "cells": [
    {
      "cell_type": "markdown",
      "metadata": {
        "id": "view-in-github",
        "colab_type": "text"
      },
      "source": [
        "<a href=\"https://colab.research.google.com/github/Chaka246055/busuness-programming/blob/main/input_validation.ipynb\" target=\"_parent\"><img src=\"https://colab.research.google.com/assets/colab-badge.svg\" alt=\"Open In Colab\"/></a>"
      ]
    },
    {
      "cell_type": "markdown",
      "id": "b5835b0c",
      "metadata": {
        "id": "b5835b0c"
      },
      "source": [
        "# Input Validation\n",
        "\n",
        "Input validation code verifies that user supplied data, such as text from the input() function, is formatted appropriately.\n",
        "\n",
        "* try/except\n",
        "* isdigit()\n",
        "* pyinputplus\n",
        "\n",
        "## try/except"
      ]
    },
    {
      "cell_type": "code",
      "execution_count": 4,
      "id": "695b1f5f",
      "metadata": {
        "id": "695b1f5f",
        "colab": {
          "base_uri": "https://localhost:8080/"
        },
        "outputId": "e3783c84-fe93-40ff-bccb-43c2081b5f6e"
      },
      "outputs": [
        {
          "output_type": "stream",
          "name": "stdout",
          "text": [
            "How old are you?10\n",
            "Your age is: 10\n"
          ]
        }
      ],
      "source": [
        "while True:\n",
        "  try:\n",
        "    age = int(input('How old are you?'))\n",
        "    break\n",
        "  except ValueError:\n",
        "     print('Please enter a whole number') \n",
        "\n",
        "print('Your age is: ' + str(age))   "
      ]
    },
    {
      "cell_type": "code",
      "source": [
        "while True:\n",
        "  age = input('How old are you?')\n",
        "  if age.isdigit():\n",
        "    \n",
        "\n"
      ],
      "metadata": {
        "id": "cQvBN7bFfB5k"
      },
      "id": "cQvBN7bFfB5k",
      "execution_count": null,
      "outputs": []
    },
    {
      "cell_type": "markdown",
      "id": "acc7252b",
      "metadata": {
        "id": "acc7252b"
      },
      "source": [
        "## isdigit()"
      ]
    },
    {
      "cell_type": "code",
      "execution_count": null,
      "id": "5f98c241",
      "metadata": {
        "id": "5f98c241"
      },
      "outputs": [],
      "source": [
        ""
      ]
    },
    {
      "cell_type": "markdown",
      "id": "18c00dc3",
      "metadata": {
        "id": "18c00dc3"
      },
      "source": [
        "## Module: pyinputs"
      ]
    },
    {
      "cell_type": "code",
      "execution_count": null,
      "id": "dfe1740b",
      "metadata": {
        "id": "dfe1740b"
      },
      "outputs": [],
      "source": [
        "# install the modue\n",
        "!pip install PyInputPlus"
      ]
    },
    {
      "cell_type": "code",
      "source": [
        "import pyinputplus as pyip\n",
        "\n",
        "age = pyip.inputNum(prompt=\"How old are you\", greaterThan=10)\n",
        "print()\n",
        "print('Your age is: ' + str(age))\n"
      ],
      "metadata": {
        "id": "OvqPitIkh379",
        "colab": {
          "base_uri": "https://localhost:8080/"
        },
        "outputId": "2ac2432e-01bd-4833-c07f-ee448ea7b93c"
      },
      "id": "OvqPitIkh379",
      "execution_count": 8,
      "outputs": [
        {
          "output_type": "stream",
          "name": "stdout",
          "text": [
            "How old are you10\n",
            "Number must be greater than 10.\n",
            "How old are you15\n",
            "\n",
            "Your age is: 15\n"
          ]
        }
      ]
    },
    {
      "cell_type": "code",
      "source": [
        ""
      ],
      "metadata": {
        "id": "BSY3chdWieP1"
      },
      "id": "BSY3chdWieP1",
      "execution_count": null,
      "outputs": []
    }
  ],
  "metadata": {
    "kernelspec": {
      "display_name": "Python 3 (ipykernel)",
      "language": "python",
      "name": "python3"
    },
    "language_info": {
      "codemirror_mode": {
        "name": "ipython",
        "version": 3
      },
      "file_extension": ".py",
      "mimetype": "text/x-python",
      "name": "python",
      "nbconvert_exporter": "python",
      "pygments_lexer": "ipython3",
      "version": "3.9.6"
    },
    "colab": {
      "name": "input_validation.ipynb",
      "provenance": [],
      "include_colab_link": true
    }
  },
  "nbformat": 4,
  "nbformat_minor": 5
}